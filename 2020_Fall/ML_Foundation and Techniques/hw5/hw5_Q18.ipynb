{
 "cells": [
  {
   "cell_type": "code",
   "execution_count": 11,
   "metadata": {},
   "outputs": [],
   "source": [
    "import pandas as pd\n",
    "import numpy as np\n",
    "import ast\n",
    "import sys\n",
    "\n",
    "path = '/Users/tsengyiwei/Desktop/NTU 2020Fall/Machine Learning Techniques/homeworks/hw5/libsvm-3.24/python'\n",
    "sys.path.append(path)\n",
    "\n",
    "from svmutil import *\n",
    "\n",
    "def mapping(y,class_chosen):\n",
    "    y_map = list(map(lambda x: 1 if x == class_chosen else -1, y))\n",
    "    return y_map"
   ]
  },
  {
   "cell_type": "code",
   "execution_count": 10,
   "metadata": {},
   "outputs": [
    {
     "name": "stdout",
     "output_type": "stream",
     "text": [
      "Accuracy = 76.5% (1530/2000) (classification)\n",
      "Accuracy = 83.65% (1673/2000) (classification)\n",
      "Accuracy = 89.35% (1787/2000) (classification)\n",
      "Accuracy = 90.3% (1806/2000) (classification)\n",
      "Accuracy = 90.3% (1806/2000) (classification)\n",
      "[23.5  16.35 10.65  9.7   9.7 ]\n"
     ]
    }
   ],
   "source": [
    "y, x = svm_read_problem('satimage_train.scale')\n",
    "y_test, x_test = svm_read_problem('satimage.scale.t')\n",
    "class_select = 6\n",
    "y = mapping(y, class_select)\n",
    "y_test = mapping(y_test, class_select)\n",
    "prob = svm_problem(y, x, isKernel = True)\n",
    "C = [0.01, 0.1, 1, 10, 100]\n",
    "choice = len(C)\n",
    "Eout = np.empty(choice)\n",
    "for i in range(choice):\n",
    "    param = svm_parameter('-t 2 -g 10 -c {}'.format(C[i]))\n",
    "    m = svm_train(prob, param)\n",
    "    p_label, p_acc, p_val = svm_predict(y_test, x_test, m)\n",
    "    Eout[i] = 100 - p_acc[0]\n",
    "print(Eout)"
   ]
  },
  {
   "cell_type": "code",
   "execution_count": 12,
   "metadata": {},
   "outputs": [
    {
     "name": "stdout",
     "output_type": "stream",
     "text": [
      "Given C = 10 and C = 100 tie, we choose C = 10 to avoid overfitting\n"
     ]
    }
   ],
   "source": [
    "print(\"Given C = 10 and C = 100 tie, we choose C = 10 to avoid overfitting\")"
   ]
  },
  {
   "cell_type": "code",
   "execution_count": null,
   "metadata": {},
   "outputs": [],
   "source": []
  }
 ],
 "metadata": {
  "kernelspec": {
   "display_name": "Python 3",
   "language": "python",
   "name": "python3"
  },
  "language_info": {
   "codemirror_mode": {
    "name": "ipython",
    "version": 3
   },
   "file_extension": ".py",
   "mimetype": "text/x-python",
   "name": "python",
   "nbconvert_exporter": "python",
   "pygments_lexer": "ipython3",
   "version": "3.7.6"
  }
 },
 "nbformat": 4,
 "nbformat_minor": 4
}
