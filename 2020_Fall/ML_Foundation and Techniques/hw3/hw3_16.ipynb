{
 "cells": [
  {
   "cell_type": "code",
   "execution_count": 14,
   "metadata": {},
   "outputs": [],
   "source": [
    "import pandas as pd\n",
    "import numpy as np\n",
    "import math\n",
    "\n",
    "def mse(A,B):\n",
    "    mse = ((A - B)**2).mean()\n",
    "    return mse\n",
    "\n",
    "def S(x):\n",
    "    s = 1 / (1 + math.e ** (-x))\n",
    "    return s\n",
    "\n",
    "def Ece(w,x,y):\n",
    "    ce = np.empty([len(y)])\n",
    "    for i in range(len(y)):\n",
    "        ce[i] = math.log(1 + pow(math.e, -y[i] * np.dot(w,x[i])))\n",
    "    return ce.mean()\n",
    "    \n",
    "\n",
    "#load data\n",
    "\n",
    "data = pd.read_csv(\"https://www.csie.ntu.edu.tw/~htlin/course/ml20fall/hw3/hw3_train.dat\", header = None, sep=\"\\t\")\n",
    "x_train = data.iloc[:,:10].to_numpy()\n",
    "y_train = data.iloc[:,10].to_numpy()\n",
    "\n",
    "# add x_0 = 1 \n",
    "x_0 = np.ones([1,len(y_train)])\n",
    "x_train = np.insert(x_train, 0, x_0, axis=1)"
   ]
  },
  {
   "cell_type": "code",
   "execution_count": 17,
   "metadata": {},
   "outputs": [],
   "source": [
    "# Run the SGD logistic regression \n",
    "\n",
    "#initialization\n",
    "\n",
    "eta = 0.001\n",
    "exp_times = 1000\n",
    "n_iteration = 500\n",
    "Ece_w500 = np.empty([exp_times])"
   ]
  },
  {
   "cell_type": "code",
   "execution_count": 16,
   "metadata": {},
   "outputs": [
    {
     "name": "stdout",
     "output_type": "stream",
     "text": [
      "average Ece_w500 over the 1000 experiments =  0.5691125350817864\n"
     ]
    }
   ],
   "source": [
    "for i in range(exp_times):\n",
    "    t = 0\n",
    "    w = np.zeros([len(x_train[0])])\n",
    "    np.random.seed(i)\n",
    "    while (t < n_iteration):\n",
    "        n = np.random.randint(len(y_train))\n",
    "        x = x_train[n]\n",
    "        # update w using the negative stochastic gradient , update direction: S(−ywx)yx\n",
    "        w = w + eta * S(-y_train[n] * np.dot(w,x)) * y_train[n] * x\n",
    "        t += 1\n",
    "    Ece_w500[i] = Ece(w, x_train, y_train)\n",
    "\n",
    "print(\"Average Ece_w500 over the 1000 experiments = \", Ece_w500.mean())"
   ]
  },
  {
   "cell_type": "code",
   "execution_count": null,
   "metadata": {},
   "outputs": [],
   "source": []
  }
 ],
 "metadata": {
  "kernelspec": {
   "display_name": "Python 3",
   "language": "python",
   "name": "python3"
  },
  "language_info": {
   "codemirror_mode": {
    "name": "ipython",
    "version": 3
   },
   "file_extension": ".py",
   "mimetype": "text/x-python",
   "name": "python",
   "nbconvert_exporter": "python",
   "pygments_lexer": "ipython3",
   "version": "3.7.6"
  }
 },
 "nbformat": 4,
 "nbformat_minor": 4
}
