{
 "cells": [
  {
   "cell_type": "code",
   "execution_count": 47,
   "metadata": {},
   "outputs": [],
   "source": [
    "import pandas as pd\n",
    "import numpy as np\n",
    "\n",
    "def sign(x):\n",
    "    if x > 0:\n",
    "        return 1\n",
    "    else:\n",
    "        return -1\n",
    "\n",
    "def Eb(Xw,y):\n",
    "    s = 0\n",
    "    N = len(y)\n",
    "    for i in range(N):\n",
    "        if sign(Xw[i]) == y[i]:\n",
    "            continue\n",
    "        else:\n",
    "            s += 1\n",
    "    return s / N\n",
    "\n",
    "def trans(X,Q):\n",
    "    if Q <= 1:\n",
    "        return X\n",
    "    X_d = X[:,1:]\n",
    "    Xtrans = X\n",
    "    for i in range(2, Q+1):\n",
    "        Xtrans = np.concatenate((Xtrans, X_d ** (i)), axis=1) \n",
    "    return Xtrans\n",
    "    \n",
    "    \n",
    "\n",
    "#load data\n",
    "\n",
    "data_train = pd.read_csv(\"https://www.csie.ntu.edu.tw/~htlin/course/ml20fall/hw3/hw3_train.dat\", header = None, sep=\"\\t\")\n",
    "x_train = data_train.iloc[:,:10].to_numpy()\n",
    "y_train = data_train.iloc[:,10].to_numpy()\n",
    "\n",
    "data_test = pd.read_csv(\"https://www.csie.ntu.edu.tw/~htlin/course/ml20fall/hw3/hw3_test.dat\", header=None, sep=\"\\t\")\n",
    "x_test = data_test.iloc[:,:10].to_numpy()\n",
    "y_test = data_test.iloc[:,10].to_numpy()\n",
    "\n",
    "# add x_0 = 1 \n",
    "\n",
    "x_train_0 = np.ones([1,len(y_train)])\n",
    "x_test_0 = np.ones([1,len(y_test)])\n",
    "\n",
    "x_train = np.insert(x_train, 0, x_train_0, axis=1)\n",
    "x_test = np.insert(x_test, 0, x_test_0, axis=1)\n"
   ]
  },
  {
   "cell_type": "code",
   "execution_count": 48,
   "metadata": {},
   "outputs": [],
   "source": [
    "# polynomial transform when Q = 3\n",
    "Q_19 = 3\n",
    "Q_20 = 10\n",
    "x_train_trans = trans(x_train, Q_19)\n",
    "x_test_trans = trans(x_test, Q_19)"
   ]
  },
  {
   "cell_type": "code",
   "execution_count": 49,
   "metadata": {},
   "outputs": [
    {
     "name": "stdout",
     "output_type": "stream",
     "text": [
      "The difference between Ein and Eout when Q = 3 is  0.37366666666666665\n"
     ]
    }
   ],
   "source": [
    "# calculate pseudo inverse and return wLIN \n",
    "\n",
    "Xpinv = np.linalg.pinv(x_train_trans)\n",
    "wLIN = np.matmul(Xpinv,y_train)\n",
    "\n",
    "# calculate Error 0/1\n",
    "\n",
    "Xtrain_wLIN = np.matmul(x_train_trans, wLIN)\n",
    "Xtest_wLIN =np.matmul(x_test_trans, wLIN)\n",
    "Ein_wLIN = Eb(Xtrain_wLIN, y_train)\n",
    "Eout = Eb(Xtest_wLIN, y_test)\n",
    "print(\"The difference between Ein and Eout when Q = 3 is \", abs(Ein_wLIN - Eout))"
   ]
  },
  {
   "cell_type": "code",
   "execution_count": 50,
   "metadata": {},
   "outputs": [
    {
     "name": "stdout",
     "output_type": "stream",
     "text": [
      "The difference between Ein and Eout when Q = 10 is  0.44666666666666666\n"
     ]
    }
   ],
   "source": [
    "# polynomial transform when Q = 10 and calculate pseudo inverse and return wLIN \n",
    "\n",
    "Q_20 = 10\n",
    "x_train_trans = trans(x_train, Q_20)\n",
    "x_test_trans = trans(x_test, Q_20)\n",
    "\n",
    "Xpinv = np.linalg.pinv(x_train_trans)\n",
    "wLIN = np.matmul(Xpinv,y_train)\n",
    "\n",
    "# calculate Error 0/1\n",
    "\n",
    "Xtrain_wLIN = np.matmul(x_train_trans, wLIN)\n",
    "Xtest_wLIN =np.matmul(x_test_trans, wLIN)\n",
    "Ein_wLIN = Eb(Xtrain_wLIN, y_train)\n",
    "Eout = Eb(Xtest_wLIN, y_test)\n",
    "print(\"The difference between Ein and Eout when Q = 10 is \", abs(Ein_wLIN - Eout))"
   ]
  },
  {
   "cell_type": "code",
   "execution_count": null,
   "metadata": {},
   "outputs": [],
   "source": []
  }
 ],
 "metadata": {
  "kernelspec": {
   "display_name": "Python 3",
   "language": "python",
   "name": "python3"
  },
  "language_info": {
   "codemirror_mode": {
    "name": "ipython",
    "version": 3
   },
   "file_extension": ".py",
   "mimetype": "text/x-python",
   "name": "python",
   "nbconvert_exporter": "python",
   "pygments_lexer": "ipython3",
   "version": "3.7.6"
  }
 },
 "nbformat": 4,
 "nbformat_minor": 4
}
