{
 "cells": [
  {
   "cell_type": "code",
   "execution_count": 44,
   "metadata": {},
   "outputs": [],
   "source": [
    "import pandas as pd\n",
    "import numpy as np\n",
    "import ast\n",
    "import sys\n",
    "\n",
    "path = '/Users/tsengyiwei/Desktop/NTU 2020Fall/Machine Learning Techniques/homeworks/hw5/libsvm-3.24/python'\n",
    "sys.path.append(path)\n",
    "\n",
    "from svmutil import *\n",
    "\n",
    "def mapping(y,class_chosen):\n",
    "    y_map = list(map(lambda x: 1 if x == class_chosen else -1, y))\n",
    "    return y_map"
   ]
  },
  {
   "cell_type": "code",
   "execution_count": 79,
   "metadata": {},
   "outputs": [
    {
     "name": "stdout",
     "output_type": "stream",
     "text": [
      "Accuracy = 99.9324% (4432/4435) (classification)\n",
      "Accuracy = 100% (4435/4435) (classification)\n",
      "Accuracy = 97.7678% (4336/4435) (classification)\n",
      "Accuracy = 95.9865% (4257/4435) (classification)\n",
      "Accuracy = 99.3236% (4405/4435) (classification)\n",
      "[0.06764374 0.         2.23224352 4.01352875 0.67643743]\n"
     ]
    }
   ],
   "source": [
    "y, x = svm_read_problem('satimage_train.scale')\n",
    "classes = len(np.unique(y)) - 1\n",
    "examples = len(y)\n",
    "y_i_vs_others = np.empty([classes, examples])\n",
    "for i in range(classes):\n",
    "    y_i_vs_others[i] = mapping(y, i + 1)\n",
    "\n",
    "Ein = np.empty(classes)\n",
    "N_support_vectors = np.empty(classes)\n",
    "for i in range(classes):\n",
    "    prob = svm_problem(y_i_vs_others[i], x, isKernel = True)\n",
    "    param = svm_parameter('-t 1 -d 2 -g 1 -r 1 -c 10')\n",
    "    m = svm_train(prob, param)\n",
    "    support_vectors = m.get_SV()\n",
    "    N_support_vectors[i] = len(support_vectors)\n",
    "    p_label, p_acc, p_val = svm_predict(y_i_vs_others[i], x, m)\n",
    "    Ein[i] = 100 - p_acc[0]\n",
    "print(Ein)"
   ]
  },
  {
   "cell_type": "code",
   "execution_count": 80,
   "metadata": {},
   "outputs": [
    {
     "name": "stdout",
     "output_type": "stream",
     "text": [
      "The lowest Ein is \"2\" versus \"not 2\"\n"
     ]
    }
   ],
   "source": [
    "print('The lowest Ein is \"2\" versus \"not 2\"')"
   ]
  },
  {
   "cell_type": "code",
   "execution_count": 81,
   "metadata": {},
   "outputs": [
    {
     "name": "stdout",
     "output_type": "stream",
     "text": [
      "[145.  87. 433. 712. 259.]\n"
     ]
    }
   ],
   "source": [
    "print(N_support_vectors)"
   ]
  },
  {
   "cell_type": "code",
   "execution_count": 82,
   "metadata": {},
   "outputs": [
    {
     "name": "stdout",
     "output_type": "stream",
     "text": [
      "The maximum number of support vectors is 712\n"
     ]
    }
   ],
   "source": [
    "print('The maximum number of support vectors is', int(np.amax(N_support_vectors)))"
   ]
  }
 ],
 "metadata": {
  "kernelspec": {
   "display_name": "Python 3",
   "language": "python",
   "name": "python3"
  },
  "language_info": {
   "codemirror_mode": {
    "name": "ipython",
    "version": 3
   },
   "file_extension": ".py",
   "mimetype": "text/x-python",
   "name": "python",
   "nbconvert_exporter": "python",
   "pygments_lexer": "ipython3",
   "version": "3.7.6"
  }
 },
 "nbformat": 4,
 "nbformat_minor": 4
}
