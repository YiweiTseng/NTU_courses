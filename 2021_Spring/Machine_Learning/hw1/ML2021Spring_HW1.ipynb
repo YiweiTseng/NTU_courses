{
  "nbformat": 4,
  "nbformat_minor": 0,
  "metadata": {
    "colab": {
      "name": "ML2021Spring - HW1.ipynb",
      "provenance": [],
      "collapsed_sections": [],
      "toc_visible": true
    },
    "kernelspec": {
      "name": "python3",
      "display_name": "Python 3"
    },
    "accelerator": "GPU"
  },
  "cells": [
    {
      "cell_type": "markdown",
      "metadata": {
        "id": "mz0_QVkxCrX3"
      },
      "source": [
        "# **Homework 1: COVID-19 Cases Prediction (Regression)**"
      ]
    },
    {
      "cell_type": "markdown",
      "metadata": {
        "id": "ZeZnPAiwDRWG"
      },
      "source": [
        "Author: Heng-Jui Chang\n",
        "\n",
        "Slides: https://github.com/ga642381/ML2021-Spring/blob/main/HW01/HW01.pdf  \n",
        "Video: TBA\n",
        "\n",
        "Objectives:\n",
        "* Solve a regression problem with deep neural networks (DNN).\n",
        "* Understand basic DNN training tips.\n",
        "* Get familiar with PyTorch.\n",
        "\n",
        "If any questions, please contact the TAs via TA hours, NTU COOL, or email.\n"
      ]
    },
    {
      "cell_type": "markdown",
      "metadata": {
        "id": "Jx3x1nDkG-Uy"
      },
      "source": [
        "# **Download Data**\n",
        "\n",
        "\n",
        "If the Google drive links are dead, you can download data from [kaggle](https://www.kaggle.com/c/ml2021spring-hw1/data), and upload data manually to the workspace."
      ]
    },
    {
      "cell_type": "code",
      "metadata": {
        "colab": {
          "base_uri": "https://localhost:8080/"
        },
        "id": "tMj55YDKG6ch",
        "outputId": "f36cc738-16e1-43fd-e7cd-a2f219242505"
      },
      "source": [
        "tr_path = 'covid.train.csv'  # path to training data\n",
        "tt_path = 'covid.test.csv'   # path to testing data\n",
        "\n",
        "!gdown --id '19CCyCgJrUxtvgZF53vnctJiOJ23T5mqF' --output covid.train.csv\n",
        "!gdown --id '1CE240jLm2npU-tdz81-oVKEF3T2yfT1O' --output covid.test.csv"
      ],
      "execution_count": null,
      "outputs": [
        {
          "output_type": "stream",
          "text": [
            "Downloading...\n",
            "From: https://drive.google.com/uc?id=19CCyCgJrUxtvgZF53vnctJiOJ23T5mqF\n",
            "To: /content/covid.train.csv\n",
            "100% 2.00M/2.00M [00:00<00:00, 31.5MB/s]\n",
            "Downloading...\n",
            "From: https://drive.google.com/uc?id=1CE240jLm2npU-tdz81-oVKEF3T2yfT1O\n",
            "To: /content/covid.test.csv\n",
            "100% 651k/651k [00:00<00:00, 10.3MB/s]\n"
          ],
          "name": "stdout"
        }
      ]
    },
    {
      "cell_type": "markdown",
      "metadata": {
        "id": "wS_4-77xHk44"
      },
      "source": [
        "# **Import Some Packages**"
      ]
    },
    {
      "cell_type": "code",
      "metadata": {
        "id": "k-onQd4JNA5H"
      },
      "source": [
        "# PyTorch\n",
        "import torch\n",
        "import torch.nn as nn\n",
        "from torch.utils.data import Dataset, DataLoader\n",
        "\n",
        "# For data preprocess\n",
        "import numpy as np\n",
        "import csv\n",
        "import os\n",
        "\n",
        "# For plotting\n",
        "import matplotlib.pyplot as plt\n",
        "from matplotlib.pyplot import figure\n",
        "\n",
        "# For feature selection\n",
        "import pandas as pd\n",
        "from sklearn.feature_selection import SelectKBest\n",
        "from sklearn.feature_selection import f_regression\n",
        "\n",
        "myseed = 42069  # set a random seed for reproducibility\n",
        "torch.backends.cudnn.deterministic = True\n",
        "torch.backends.cudnn.benchmark = False\n",
        "np.random.seed(myseed)\n",
        "torch.manual_seed(myseed)\n",
        "if torch.cuda.is_available():\n",
        "    torch.cuda.manual_seed_all(myseed)"
      ],
      "execution_count": null,
      "outputs": []
    },
    {
      "cell_type": "markdown",
      "metadata": {
        "id": "BtE3b6JEH7rw"
      },
      "source": [
        "\n",
        "\n",
        "```\n",
        "# 此內容會顯示為程式碼\n",
        "```\n",
        "\n",
        "# **Some Utilities**\n",
        "\n",
        "You do not need to modify this part."
      ]
    },
    {
      "cell_type": "code",
      "metadata": {
        "id": "FWMT3uf1NGQp"
      },
      "source": [
        "def get_device():\n",
        "    ''' Get device (if GPU is available, use GPU) '''\n",
        "    return 'cuda' if torch.cuda.is_available() else 'cpu'\n",
        "\n",
        "def plot_learning_curve(loss_record, title=''):\n",
        "    ''' Plot learning curve of your DNN (train & dev loss) '''\n",
        "    total_steps = len(loss_record['train'])\n",
        "    x_1 = range(total_steps)\n",
        "    x_2 = x_1[::len(loss_record['train']) // len(loss_record['dev'])]\n",
        "    figure(figsize=(6, 4))\n",
        "    plt.plot(x_1, loss_record['train'], c='tab:red', label='train')\n",
        "    plt.plot(x_2, loss_record['dev'], c='tab:cyan', label='dev')\n",
        "    plt.ylim(0.0, 5.)\n",
        "    plt.xlabel('Training steps')\n",
        "    plt.ylabel('MSE loss')\n",
        "    plt.title('Learning curve of {}'.format(title))\n",
        "    plt.legend()\n",
        "    plt.show()\n",
        "\n",
        "\n",
        "def plot_pred(dv_set, model, device, lim=35., preds=None, targets=None):\n",
        "    ''' Plot prediction of your DNN '''\n",
        "    if preds is None or targets is None:\n",
        "        model.eval()\n",
        "        preds, targets = [], []\n",
        "        for x, y in dv_set:\n",
        "            x, y = x.to(device), y.to(device)\n",
        "            with torch.no_grad():\n",
        "                pred = model(x)\n",
        "                preds.append(pred.detach().cpu())\n",
        "                targets.append(y.detach().cpu())\n",
        "        preds = torch.cat(preds, dim=0).numpy()\n",
        "        targets = torch.cat(targets, dim=0).numpy()\n",
        "\n",
        "    figure(figsize=(5, 5))\n",
        "    plt.scatter(targets, preds, c='r', alpha=0.5)\n",
        "    plt.plot([-0.2, lim], [-0.2, lim], c='b')\n",
        "    plt.xlim(-0.2, lim)\n",
        "    plt.ylim(-0.2, lim)\n",
        "    plt.xlabel('ground truth value')\n",
        "    plt.ylabel('predicted value')\n",
        "    plt.title('Ground Truth v.s. Prediction')\n",
        "    plt.show()"
      ],
      "execution_count": null,
      "outputs": []
    },
    {
      "cell_type": "markdown",
      "metadata": {
        "id": "wiaJc_ORzC4s"
      },
      "source": [
        "# **Feature Selection**"
      ]
    },
    {
      "cell_type": "code",
      "metadata": {
        "id": "Rw17YGXpzB1X"
      },
      "source": [
        "# load data with pandas\n",
        "def feature_selection(feats = ''):\n",
        "  df_train = pd.read_csv(tr_path)\n",
        "  df_train = df_train.to_numpy()\n",
        "  training = df_train[:,1:-1]\n",
        "  states = training[:, :40]\n",
        "  numerical_feats = training[:, 40:]\n",
        "  y = df_train[:, -1]\n",
        "  \n",
        "  \n",
        "  if feats == 'states':\n",
        "    # define feature selection\n",
        "    fs = SelectKBest(score_func=f_regression, k=10)\n",
        "\n",
        "    # apply feature selection\n",
        "    X_selected = fs.fit_transform(states, y)\n",
        "    select = fs.get_support()\n",
        "    feats_selected = np.where(select == True)[0] \n",
        "\n",
        "  elif feats == 'numerical':\n",
        "    # define feature selection\n",
        "    fs = SelectKBest(score_func=f_regression, k=14)\n",
        "\n",
        "    # apply feature selection\n",
        "    X_selected = fs.fit_transform(training, y)\n",
        "    select = fs.get_support()\n",
        "    feats_selected = np.where(select == True)[0] \n",
        "    feats_selected = feats_selected[-10:]\n",
        "  \n",
        "  return feats_selected\n",
        "\n"
      ],
      "execution_count": null,
      "outputs": []
    },
    {
      "cell_type": "markdown",
      "metadata": {
        "id": "39U_XFX6KOoj"
      },
      "source": [
        "# **Preprocess**\n",
        "\n",
        "We have three kinds of datasets:\n",
        "* `train`: for training\n",
        "* `dev`: for validation\n",
        "* `test`: for testing (w/o target value)"
      ]
    },
    {
      "cell_type": "markdown",
      "metadata": {
        "id": "TQ-MdwpLL7Dt"
      },
      "source": [
        "## **Dataset**\n",
        "\n",
        "The `COVID19Dataset` below does:\n",
        "* read `.csv` files\n",
        "* extract features\n",
        "* split `covid.train.csv` into train/dev sets\n",
        "* normalize features\n",
        "\n",
        "Finishing `TODO` below might make you pass medium baseline."
      ]
    },
    {
      "cell_type": "code",
      "metadata": {
        "id": "0zlpIp9ANJRU"
      },
      "source": [
        "class COVID19Dataset(Dataset):\n",
        "    ''' Dataset for loading and preprocessing the COVID19 dataset '''\n",
        "    def __init__(self,\n",
        "                 path,\n",
        "                 mode='train',\n",
        "                 target_only=False):\n",
        "        self.mode = mode\n",
        "\n",
        "        # Read data into numpy arrays\n",
        "        with open(path, 'r') as fp:\n",
        "            data = list(csv.reader(fp))\n",
        "            data = np.array(data[1:])[:, 1:].astype(float)\n",
        "        \n",
        "        if not target_only:\n",
        "            feats = list(range(93))\n",
        "        else:\n",
        "            # TODO: \n",
        "            states_feats = feature_selection('states')\n",
        "            numerical_feats = feature_selection('numerical')\n",
        "            feats = np.concatenate((states_feats, numerical_feats))\n",
        "\n",
        "            \n",
        "            if mode == 'train':\n",
        "              print(\"Selected States Features =\", states_feats)\n",
        "              print(\"Selected Numerical Features =\", numerical_feats)\n",
        "\n",
        "        if mode == 'test':\n",
        "            # Testing data\n",
        "            # data: 893 x 93 (40 states + day 1 (18) + day 2 (18) + day 3 (17))\n",
        "            data = data[:, feats]\n",
        "            self.data = torch.FloatTensor(data)\n",
        "        else:\n",
        "            # Training data (train/dev sets)\n",
        "            # data: 2700 x 94 (40 states + day 1 (18) + day 2 (18) + day 3 (18))\n",
        "            target = data[:, -1]\n",
        "            data = data[:, feats]\n",
        "            \n",
        "            \n",
        "            # Splitting training data into train & dev sets\n",
        "            valSet = 3\n",
        "            if mode == 'train':\n",
        "                indices = [i for i in range(len(data)) if i % 10 != valSet]\n",
        "            elif mode == 'dev':\n",
        "                indices = [i for i in range(len(data)) if i % 10 == valSet]\n",
        "            \n",
        "            # Convert data into PyTorch tensors\n",
        "            self.data = torch.FloatTensor(data[indices])\n",
        "            self.target = torch.FloatTensor(target[indices])\n",
        "            \n",
        "\n",
        "        # Normalize features (you may remove this part to see what will happen)\n",
        "        \n",
        "        self.data[:, 40:] = \\\n",
        "            (self.data[:, 40:] - self.data[:, 40:].mean(dim=0, keepdim=True)) \\\n",
        "            / self.data[:, 40:].std(dim=0, keepdim=True)\n",
        "        \n",
        "        self.dim = self.data.shape[1]\n",
        "\n",
        "        print('Finished reading the {} set of COVID19 Dataset ({} samples found, each dim = {})'\n",
        "              .format(mode, len(self.data), self.dim))\n",
        "\n",
        "    def __getitem__(self, index):\n",
        "        # Returns one sample at a time\n",
        "        if self.mode in ['train', 'dev']:\n",
        "            # For training\n",
        "            return self.data[index], self.target[index]\n",
        "        else:\n",
        "            # For testing (no target)\n",
        "            return self.data[index]\n",
        "\n",
        "    def __len__(self):\n",
        "        # Returns the size of the dataset\n",
        "        return len(self.data)"
      ],
      "execution_count": null,
      "outputs": []
    },
    {
      "cell_type": "markdown",
      "metadata": {
        "id": "AlhTlkE7MDo3"
      },
      "source": [
        "## **DataLoader**\n",
        "\n",
        "A `DataLoader` loads data from a given `Dataset` into batches.\n"
      ]
    },
    {
      "cell_type": "code",
      "metadata": {
        "id": "hlhLk5t6MBX3"
      },
      "source": [
        "def prep_dataloader(path, mode, batch_size, n_jobs=0, target_only=False):\n",
        "    ''' Generates a dataset, then is put into a dataloader. '''\n",
        "    dataset = COVID19Dataset(path, mode=mode, target_only=target_only)  # Construct dataset\n",
        "    dataloader = DataLoader(\n",
        "        dataset, batch_size,\n",
        "        shuffle=(mode == 'train'), drop_last=False,\n",
        "        num_workers=n_jobs, pin_memory=True)                            # Construct dataloader\n",
        "    return dataloader"
      ],
      "execution_count": null,
      "outputs": []
    },
    {
      "cell_type": "markdown",
      "metadata": {
        "id": "SGuycwR0MeQB"
      },
      "source": [
        "# **Deep Neural Network**\n",
        "\n",
        "`NeuralNet` is an `nn.Module` designed for regression.\n",
        "The DNN consists of 2 fully-connected layers with ReLU activation.\n",
        "This module also included a function `cal_loss` for calculating loss.\n"
      ]
    },
    {
      "cell_type": "code",
      "metadata": {
        "id": "49-uXYovOAI0"
      },
      "source": [
        "class NeuralNet(nn.Module):\n",
        "    ''' A simple fully-connected deep neural network '''\n",
        "    def __init__(self, input_dim):\n",
        "        super(NeuralNet, self).__init__()\n",
        "\n",
        "        # Define your neural network here\n",
        "        # TODO: How to modify this model to achieve better performance?\n",
        "        self.net = nn.Sequential(\n",
        "            nn.Linear(input_dim, 16),\n",
        "            nn.ReLU(),\n",
        "            nn.Linear(16,8),\n",
        "            nn.ReLU(),\n",
        "            nn.Linear(8,1)\n",
        "\n",
        "        )\n",
        "\n",
        "        # Mean squared error loss\n",
        "        self.criterion = nn.MSELoss(reduction='mean')\n",
        "\n",
        "    def forward(self, x):\n",
        "        ''' Given input of size (batch_size x input_dim), compute output of the network '''\n",
        "        return self.net(x).squeeze(1)\n",
        "\n",
        "    def cal_loss(self, pred, target):\n",
        "        ''' Calculate loss '''\n",
        "        # TODO: you may implement L2 regularization here\n",
        "        loss = torch.sqrt(self.criterion(pred, target))\n",
        "        return loss"
      ],
      "execution_count": null,
      "outputs": []
    },
    {
      "cell_type": "markdown",
      "metadata": {
        "id": "DvFWVjZ5Nvga"
      },
      "source": [
        "# **Train/Dev/Test**"
      ]
    },
    {
      "cell_type": "markdown",
      "metadata": {
        "id": "MAM8QecJOyqn"
      },
      "source": [
        "## **Training**"
      ]
    },
    {
      "cell_type": "code",
      "metadata": {
        "id": "lOqcmYzMO7jB"
      },
      "source": [
        "def train(tr_set, dv_set, model, config, device):\n",
        "    ''' DNN training '''\n",
        "\n",
        "    n_epochs = config['n_epochs']  # Maximum number of epochs\n",
        "\n",
        "    # Setup optimizer\n",
        "    optimizer = getattr(torch.optim, config['optimizer'])(\n",
        "        model.parameters(), **config['optim_hparas'])\n",
        "\n",
        "    min_mse = 1000.\n",
        "    loss_record = {'train': [], 'dev': []}      # for recording training loss\n",
        "    early_stop_cnt = 0\n",
        "    epoch = 0\n",
        "    while epoch < n_epochs:\n",
        "        model.train()                           # set model to training mode\n",
        "        for x, y in tr_set:                     # iterate through the dataloader\n",
        "            optimizer.zero_grad()               # set gradient to zero\n",
        "            x, y = x.to(device), y.to(device)   # move data to device (cpu/cuda)\n",
        "            pred = model(x)                     # forward pass (compute output)\n",
        "            mse_loss = model.cal_loss(pred, y)  # compute loss\n",
        "            mse_loss.backward()                 # compute gradient (backpropagation)\n",
        "            optimizer.step()                    # update model with optimizer\n",
        "            loss_record['train'].append(mse_loss.detach().cpu().item())\n",
        "\n",
        "        # After each epoch, test your model on the validation (development) set.\n",
        "        dev_mse = dev(dv_set, model, device)\n",
        "        if dev_mse < min_mse:\n",
        "            # Save model if your model improved\n",
        "            min_mse = dev_mse\n",
        "            print('Saving model (epoch = {:4d}, loss = {:.4f})'\n",
        "                .format(epoch + 1, min_mse))\n",
        "            torch.save(model.state_dict(), config['save_path'])  # Save model to specified path\n",
        "            early_stop_cnt = 0\n",
        "        else:\n",
        "            early_stop_cnt += 1\n",
        "\n",
        "        epoch += 1\n",
        "        loss_record['dev'].append(dev_mse)\n",
        "        if early_stop_cnt > config['early_stop']:\n",
        "            # Stop training if your model stops improving for \"config['early_stop']\" epochs.\n",
        "            break\n",
        "\n",
        "    print('Finished training after {} epochs'.format(epoch))\n",
        "    return min_mse, loss_record"
      ],
      "execution_count": null,
      "outputs": []
    },
    {
      "cell_type": "markdown",
      "metadata": {
        "id": "0hSd4Bn3O2PL"
      },
      "source": [
        "## **Validation**"
      ]
    },
    {
      "cell_type": "code",
      "metadata": {
        "id": "yrxrD3YsN3U2"
      },
      "source": [
        "def dev(dv_set, model, device):\n",
        "    model.eval()                                # set model to evalutation mode\n",
        "    total_loss = 0\n",
        "    for x, y in dv_set:                         # iterate through the dataloader\n",
        "        x, y = x.to(device), y.to(device)       # move data to device (cpu/cuda)\n",
        "        with torch.no_grad():                   # disable gradient calculation\n",
        "            pred = model(x)                     # forward pass (compute output)\n",
        "            mse_loss = model.cal_loss(pred, y)  # compute loss\n",
        "        total_loss += mse_loss.detach().cpu().item() * len(x)  # accumulate loss\n",
        "    total_loss = total_loss / len(dv_set.dataset)              # compute averaged loss\n",
        "\n",
        "    return total_loss"
      ],
      "execution_count": null,
      "outputs": []
    },
    {
      "cell_type": "markdown",
      "metadata": {
        "id": "g0pdrhQAO41L"
      },
      "source": [
        "## **Testing**"
      ]
    },
    {
      "cell_type": "code",
      "metadata": {
        "id": "aSBMRFlYN5tB"
      },
      "source": [
        "def test(tt_set, model, device):\n",
        "    model.eval()                                # set model to evalutation mode\n",
        "    preds = []\n",
        "    for x in tt_set:                            # iterate through the dataloader\n",
        "        x = x.to(device)                        # move data to device (cpu/cuda)\n",
        "        with torch.no_grad():                   # disable gradient calculation\n",
        "            pred = model(x)                     # forward pass (compute output)\n",
        "            preds.append(pred.detach().cpu())   # collect prediction\n",
        "    preds = torch.cat(preds, dim=0).numpy()     # concatenate all predictions and convert to a numpy array\n",
        "    return preds"
      ],
      "execution_count": null,
      "outputs": []
    },
    {
      "cell_type": "markdown",
      "metadata": {
        "id": "SvckkF5dvf0j"
      },
      "source": [
        "# **Setup Hyper-parameters**\n",
        "\n",
        "`config` contains hyper-parameters for training and the path to save your model."
      ]
    },
    {
      "cell_type": "code",
      "metadata": {
        "id": "NPXpdumwPjE7"
      },
      "source": [
        "device = get_device()                 # get the current available device ('cpu' or 'cuda')\n",
        "os.makedirs('models', exist_ok=True)  # The trained model will be saved to ./models/\n",
        "target_only = True                   # TODO: Using 40 states & 2 tested_positive features\n",
        "\n",
        "# TODO: How to tune these hyper-parameters to improve your model's performance?\n",
        "config = {\n",
        "    'n_epochs': 6000,                # maximum number of epochs\n",
        "    'batch_size': 100,               # mini-batch size for dataloader\n",
        "    'optimizer': 'Adam',              # optimization algorithm (optimizer in torch.optim)\n",
        "    'optim_hparas': {                # hyper-parameters for the optimizer (depends on which optimizer you are using)\n",
        "        'lr': 0.0005,                 \n",
        "        'betas' : (0.9, 0.999), \n",
        "        'eps' : 1e-08, \n",
        "        'weight_decay' : 0.01, \n",
        "        'amsgrad' : False              \n",
        "    },\n",
        "    'early_stop': 300,               # early stopping epochs (the number epochs since your model's last improvement)\n",
        "    'save_path': 'models/model.pth'  # your model will be saved here\n",
        "}"
      ],
      "execution_count": null,
      "outputs": []
    },
    {
      "cell_type": "markdown",
      "metadata": {
        "id": "6j1eOV3TOH-j"
      },
      "source": [
        "# **Load data and model**"
      ]
    },
    {
      "cell_type": "code",
      "metadata": {
        "colab": {
          "base_uri": "https://localhost:8080/"
        },
        "id": "eNrYBMmePLKm",
        "outputId": "f7bd9024-52ac-4790-91fd-d43d6754e456"
      },
      "source": [
        "tr_set = prep_dataloader(tr_path, 'train', config['batch_size'], target_only=target_only)\n",
        "dv_set = prep_dataloader(tr_path, 'dev', config['batch_size'], target_only=target_only)\n",
        "tt_set = prep_dataloader(tt_path, 'test', config['batch_size'], target_only=target_only)"
      ],
      "execution_count": null,
      "outputs": [
        {
          "output_type": "stream",
          "text": [
            "Selected States Features = [ 4  6  9 16 17 20 21 23 28 29]\n",
            "Selected Numerical Features = [57 58 59 60 61 75 76 77 78 79]\n",
            "Finished reading the train set of COVID19 Dataset (2430 samples found, each dim = 20)\n",
            "Finished reading the dev set of COVID19 Dataset (270 samples found, each dim = 20)\n",
            "Finished reading the test set of COVID19 Dataset (893 samples found, each dim = 20)\n"
          ],
          "name": "stdout"
        }
      ]
    },
    {
      "cell_type": "code",
      "metadata": {
        "id": "FHylSirLP9oh"
      },
      "source": [
        "model = NeuralNet(tr_set.dataset.dim).to(device)  # Construct model and move to device"
      ],
      "execution_count": null,
      "outputs": []
    },
    {
      "cell_type": "markdown",
      "metadata": {
        "id": "sX2B_zgSOPTJ"
      },
      "source": [
        "# **Start Training!**"
      ]
    },
    {
      "cell_type": "code",
      "metadata": {
        "colab": {
          "base_uri": "https://localhost:8080/"
        },
        "id": "GrEbUxazQAAZ",
        "outputId": "650874c3-43cc-4561-a742-f8d49e98c50f"
      },
      "source": [
        "model_loss, model_loss_record = train(tr_set, dv_set, model, config, device)"
      ],
      "execution_count": null,
      "outputs": [
        {
          "output_type": "stream",
          "text": [
            "Saving model (epoch =    1, loss = 13.0670)\n",
            "Saving model (epoch =    2, loss = 10.2842)\n",
            "Saving model (epoch =    3, loss = 7.0510)\n",
            "Saving model (epoch =    4, loss = 4.0358)\n",
            "Saving model (epoch =    5, loss = 3.5202)\n",
            "Saving model (epoch =    6, loss = 3.3608)\n",
            "Saving model (epoch =    7, loss = 3.2379)\n",
            "Saving model (epoch =    8, loss = 3.1216)\n",
            "Saving model (epoch =    9, loss = 2.9923)\n",
            "Saving model (epoch =   10, loss = 2.8487)\n",
            "Saving model (epoch =   11, loss = 2.6933)\n",
            "Saving model (epoch =   12, loss = 2.5276)\n",
            "Saving model (epoch =   13, loss = 2.3515)\n",
            "Saving model (epoch =   14, loss = 2.1681)\n",
            "Saving model (epoch =   15, loss = 1.9751)\n",
            "Saving model (epoch =   16, loss = 1.7700)\n",
            "Saving model (epoch =   17, loss = 1.5626)\n",
            "Saving model (epoch =   18, loss = 1.3706)\n",
            "Saving model (epoch =   19, loss = 1.2291)\n",
            "Saving model (epoch =   20, loss = 1.1515)\n",
            "Saving model (epoch =   21, loss = 1.1143)\n",
            "Saving model (epoch =   22, loss = 1.1064)\n",
            "Saving model (epoch =   24, loss = 1.0918)\n",
            "Saving model (epoch =   26, loss = 1.0894)\n",
            "Saving model (epoch =   28, loss = 1.0829)\n",
            "Saving model (epoch =   29, loss = 1.0809)\n",
            "Saving model (epoch =   31, loss = 1.0789)\n",
            "Saving model (epoch =   32, loss = 1.0782)\n",
            "Saving model (epoch =   33, loss = 1.0749)\n",
            "Saving model (epoch =   34, loss = 1.0728)\n",
            "Saving model (epoch =   35, loss = 1.0722)\n",
            "Saving model (epoch =   36, loss = 1.0699)\n",
            "Saving model (epoch =   37, loss = 1.0678)\n",
            "Saving model (epoch =   41, loss = 1.0621)\n",
            "Saving model (epoch =   45, loss = 1.0578)\n",
            "Saving model (epoch =   46, loss = 1.0549)\n",
            "Saving model (epoch =   47, loss = 1.0536)\n",
            "Saving model (epoch =   49, loss = 1.0512)\n",
            "Saving model (epoch =   50, loss = 1.0498)\n",
            "Saving model (epoch =   52, loss = 1.0465)\n",
            "Saving model (epoch =   55, loss = 1.0432)\n",
            "Saving model (epoch =   60, loss = 1.0360)\n",
            "Saving model (epoch =   62, loss = 1.0332)\n",
            "Saving model (epoch =   68, loss = 1.0254)\n",
            "Saving model (epoch =   72, loss = 1.0254)\n",
            "Saving model (epoch =   75, loss = 1.0242)\n",
            "Saving model (epoch =   77, loss = 1.0131)\n",
            "Saving model (epoch =   80, loss = 1.0086)\n",
            "Saving model (epoch =   82, loss = 1.0041)\n",
            "Saving model (epoch =   84, loss = 1.0019)\n",
            "Saving model (epoch =   86, loss = 0.9992)\n",
            "Saving model (epoch =   88, loss = 0.9968)\n",
            "Saving model (epoch =   93, loss = 0.9941)\n",
            "Saving model (epoch =   96, loss = 0.9876)\n",
            "Saving model (epoch =   98, loss = 0.9868)\n",
            "Saving model (epoch =  101, loss = 0.9822)\n",
            "Saving model (epoch =  103, loss = 0.9799)\n",
            "Saving model (epoch =  106, loss = 0.9792)\n",
            "Saving model (epoch =  109, loss = 0.9747)\n",
            "Saving model (epoch =  110, loss = 0.9729)\n",
            "Saving model (epoch =  112, loss = 0.9726)\n",
            "Saving model (epoch =  114, loss = 0.9714)\n",
            "Saving model (epoch =  115, loss = 0.9681)\n",
            "Saving model (epoch =  117, loss = 0.9671)\n",
            "Saving model (epoch =  123, loss = 0.9635)\n",
            "Saving model (epoch =  125, loss = 0.9631)\n",
            "Saving model (epoch =  126, loss = 0.9584)\n",
            "Saving model (epoch =  129, loss = 0.9566)\n",
            "Saving model (epoch =  131, loss = 0.9543)\n",
            "Saving model (epoch =  134, loss = 0.9527)\n",
            "Saving model (epoch =  137, loss = 0.9495)\n",
            "Saving model (epoch =  144, loss = 0.9450)\n",
            "Saving model (epoch =  145, loss = 0.9443)\n",
            "Saving model (epoch =  149, loss = 0.9413)\n",
            "Saving model (epoch =  154, loss = 0.9391)\n",
            "Saving model (epoch =  157, loss = 0.9382)\n",
            "Saving model (epoch =  158, loss = 0.9364)\n",
            "Saving model (epoch =  161, loss = 0.9341)\n",
            "Saving model (epoch =  166, loss = 0.9312)\n",
            "Saving model (epoch =  181, loss = 0.9248)\n",
            "Saving model (epoch =  182, loss = 0.9233)\n",
            "Saving model (epoch =  190, loss = 0.9205)\n",
            "Saving model (epoch =  191, loss = 0.9202)\n",
            "Saving model (epoch =  193, loss = 0.9187)\n",
            "Saving model (epoch =  199, loss = 0.9184)\n",
            "Saving model (epoch =  200, loss = 0.9177)\n",
            "Saving model (epoch =  202, loss = 0.9161)\n",
            "Saving model (epoch =  206, loss = 0.9141)\n",
            "Saving model (epoch =  208, loss = 0.9134)\n",
            "Saving model (epoch =  212, loss = 0.9130)\n",
            "Saving model (epoch =  217, loss = 0.9118)\n",
            "Saving model (epoch =  218, loss = 0.9104)\n",
            "Saving model (epoch =  220, loss = 0.9097)\n",
            "Saving model (epoch =  224, loss = 0.9090)\n",
            "Saving model (epoch =  227, loss = 0.9084)\n",
            "Saving model (epoch =  236, loss = 0.9062)\n",
            "Saving model (epoch =  238, loss = 0.9061)\n",
            "Saving model (epoch =  244, loss = 0.9054)\n",
            "Saving model (epoch =  245, loss = 0.9045)\n",
            "Saving model (epoch =  248, loss = 0.9036)\n",
            "Saving model (epoch =  254, loss = 0.9027)\n",
            "Saving model (epoch =  261, loss = 0.9023)\n",
            "Saving model (epoch =  268, loss = 0.9002)\n",
            "Saving model (epoch =  269, loss = 0.9000)\n",
            "Saving model (epoch =  278, loss = 0.8996)\n",
            "Saving model (epoch =  280, loss = 0.8988)\n",
            "Saving model (epoch =  283, loss = 0.8987)\n",
            "Saving model (epoch =  285, loss = 0.8983)\n",
            "Saving model (epoch =  287, loss = 0.8981)\n",
            "Saving model (epoch =  294, loss = 0.8977)\n",
            "Saving model (epoch =  296, loss = 0.8975)\n",
            "Saving model (epoch =  302, loss = 0.8973)\n",
            "Saving model (epoch =  304, loss = 0.8965)\n",
            "Saving model (epoch =  315, loss = 0.8960)\n",
            "Saving model (epoch =  328, loss = 0.8943)\n",
            "Saving model (epoch =  329, loss = 0.8938)\n",
            "Saving model (epoch =  352, loss = 0.8936)\n",
            "Saving model (epoch =  354, loss = 0.8929)\n",
            "Saving model (epoch =  360, loss = 0.8924)\n",
            "Saving model (epoch =  367, loss = 0.8921)\n",
            "Saving model (epoch =  377, loss = 0.8915)\n",
            "Saving model (epoch =  378, loss = 0.8914)\n",
            "Saving model (epoch =  393, loss = 0.8909)\n",
            "Saving model (epoch =  404, loss = 0.8898)\n",
            "Saving model (epoch =  408, loss = 0.8896)\n",
            "Saving model (epoch =  420, loss = 0.8894)\n",
            "Saving model (epoch =  435, loss = 0.8889)\n",
            "Saving model (epoch =  478, loss = 0.8886)\n",
            "Saving model (epoch =  480, loss = 0.8885)\n",
            "Saving model (epoch =  488, loss = 0.8880)\n",
            "Saving model (epoch =  490, loss = 0.8876)\n",
            "Saving model (epoch =  505, loss = 0.8874)\n",
            "Saving model (epoch =  523, loss = 0.8874)\n",
            "Saving model (epoch =  531, loss = 0.8871)\n",
            "Saving model (epoch =  543, loss = 0.8870)\n",
            "Saving model (epoch =  545, loss = 0.8868)\n",
            "Saving model (epoch =  547, loss = 0.8866)\n",
            "Saving model (epoch =  557, loss = 0.8865)\n",
            "Saving model (epoch =  585, loss = 0.8862)\n",
            "Saving model (epoch =  619, loss = 0.8859)\n",
            "Saving model (epoch =  641, loss = 0.8856)\n",
            "Saving model (epoch =  672, loss = 0.8856)\n",
            "Saving model (epoch =  691, loss = 0.8855)\n",
            "Saving model (epoch =  699, loss = 0.8853)\n",
            "Saving model (epoch =  747, loss = 0.8851)\n",
            "Saving model (epoch =  768, loss = 0.8843)\n",
            "Saving model (epoch =  806, loss = 0.8840)\n",
            "Saving model (epoch =  942, loss = 0.8838)\n",
            "Saving model (epoch =  985, loss = 0.8836)\n",
            "Saving model (epoch =  986, loss = 0.8832)\n",
            "Saving model (epoch = 1075, loss = 0.8831)\n",
            "Saving model (epoch = 1089, loss = 0.8830)\n",
            "Saving model (epoch = 1104, loss = 0.8824)\n",
            "Saving model (epoch = 1111, loss = 0.8823)\n",
            "Saving model (epoch = 1200, loss = 0.8820)\n",
            "Saving model (epoch = 1230, loss = 0.8820)\n",
            "Saving model (epoch = 1430, loss = 0.8819)\n",
            "Saving model (epoch = 1512, loss = 0.8816)\n",
            "Saving model (epoch = 1599, loss = 0.8813)\n",
            "Saving model (epoch = 1692, loss = 0.8812)\n",
            "Saving model (epoch = 1854, loss = 0.8811)\n",
            "Saving model (epoch = 2002, loss = 0.8808)\n",
            "Saving model (epoch = 2210, loss = 0.8808)\n",
            "Saving model (epoch = 2236, loss = 0.8806)\n",
            "Finished training after 2537 epochs\n"
          ],
          "name": "stdout"
        }
      ]
    },
    {
      "cell_type": "code",
      "metadata": {
        "colab": {
          "base_uri": "https://localhost:8080/",
          "height": 295
        },
        "id": "hsNO9nnXQBvP",
        "outputId": "5fe42330-8401-4e7c-f905-eed46e047929"
      },
      "source": [
        "plot_learning_curve(model_loss_record, title='deep model')"
      ],
      "execution_count": null,
      "outputs": [
        {
          "output_type": "display_data",
          "data": {
            "image/png": "[encoded data removed]",
            "text/plain": [
              "<Figure size 432x288 with 1 Axes>"
            ]
          },
          "metadata": {
            "tags": [],
            "needs_background": "light"
          }
        }
      ]
    },
    {
      "cell_type": "code",
      "metadata": {
        "colab": {
          "base_uri": "https://localhost:8080/",
          "height": 350
        },
        "id": "3iZTVn5WQFpX",
        "outputId": "2133991c-5d47-4e71-e76d-ee9fca9ebffe"
      },
      "source": [
        "del model\n",
        "model = NeuralNet(tr_set.dataset.dim).to(device)\n",
        "ckpt = torch.load(config['save_path'], map_location='cpu')  # Load your best model\n",
        "model.load_state_dict(ckpt)\n",
        "plot_pred(dv_set, model, device)  # Show prediction on the validation set"
      ],
      "execution_count": null,
      "outputs": [
        {
          "output_type": "display_data",
          "data": {
            "image/png": "[encoded data removed]",
            "text/plain": [
              "<Figure size 360x360 with 1 Axes>"
            ]
          },
          "metadata": {
            "tags": [],
            "needs_background": "light"
          }
        }
      ]
    },
    {
      "cell_type": "markdown",
      "metadata": {
        "id": "aQikz3IPiyPf"
      },
      "source": [
        "# **Testing**\n",
        "The predictions of your model on testing set will be stored at `pred.csv`."
      ]
    },
    {
      "cell_type": "code",
      "metadata": {
        "colab": {
          "base_uri": "https://localhost:8080/"
        },
        "id": "O8cTuQjQQOon",
        "outputId": "180d893c-abdb-4a72-b538-6c6df36d3458"
      },
      "source": [
        "def save_pred(preds, file):\n",
        "    ''' Save predictions to specified file '''\n",
        "    print('Saving results to {}'.format(file))\n",
        "    with open(file, 'w') as fp:\n",
        "        writer = csv.writer(fp)\n",
        "        writer.writerow(['id', 'tested_positive'])\n",
        "        for i, p in enumerate(preds):\n",
        "            writer.writerow([i, p])\n",
        "\n",
        "preds = test(tt_set, model, device)  # predict COVID-19 cases with your model\n",
        "save_pred(preds, 'pred.csv')         # save prediction file to pred.csv"
      ],
      "execution_count": null,
      "outputs": [
        {
          "output_type": "stream",
          "text": [
            "Saving results to pred.csv\n"
          ],
          "name": "stdout"
        }
      ]
    },
    {
      "cell_type": "markdown",
      "metadata": {
        "id": "nfrVxqJanGpE"
      },
      "source": [
        "# **Hints**\n",
        "\n",
        "## **Simple Baseline**\n",
        "* Run sample code\n",
        "\n",
        "## **Medium Baseline**\n",
        "* Feature selection: 40 states + 2 `tested_positive` (`TODO` in dataset)\n",
        "\n",
        "## **Strong Baseline**\n",
        "* Feature selection (what other features are useful?)\n",
        "* DNN architecture (layers? dimension? activation function?)\n",
        "* Training (mini-batch? optimizer? learning rate?)\n",
        "* L2 regularization\n",
        "* There are some mistakes in the sample code, can you find them?"
      ]
    },
    {
      "cell_type": "markdown",
      "metadata": {
        "id": "9tmCwXgpot3t"
      },
      "source": [
        "# **Reference**\n",
        "1. Sample code: Heng-Jui Chang @ NTUEE (https://github.com/ga642381/ML2021-Spring/blob/main/HW01/HW01.ipynb)\n",
        "\n",
        "2. Feature selection \n",
        "(https://machinelearningmastery.com/feature-selection-with-real-and-categorical-data/)"
      ]
    },
    {
      "cell_type": "code",
      "metadata": {
        "id": "UsGTkSSnKqE6"
      },
      "source": [
        ""
      ],
      "execution_count": null,
      "outputs": []
    }
  ]
}