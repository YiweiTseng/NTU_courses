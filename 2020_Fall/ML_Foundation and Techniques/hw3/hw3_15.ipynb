{
 "cells": [
  {
   "cell_type": "code",
   "execution_count": 1,
   "metadata": {},
   "outputs": [],
   "source": [
    "import pandas as pd\n",
    "import numpy as np\n",
    "import random\n",
    "import math"
   ]
  },
  {
   "cell_type": "code",
   "execution_count": 2,
   "metadata": {},
   "outputs": [],
   "source": [
    "def mse(A,B):\n",
    "    mse = ((A - B)**2).mean()\n",
    "    return mse"
   ]
  },
  {
   "cell_type": "code",
   "execution_count": 3,
   "metadata": {},
   "outputs": [
    {
     "name": "stdout",
     "output_type": "stream",
     "text": [
      "The averaged squared error over N examples = 0.6053223804672918\n"
     ]
    }
   ],
   "source": [
    "#load data\n",
    "\n",
    "data = pd.read_csv(\"https://www.csie.ntu.edu.tw/~htlin/course/ml20fall/hw3/hw3_train.dat\", header = None, sep=\"\\t\")\n",
    "x_train = data.iloc[:,:10].to_numpy()\n",
    "y_train = data.iloc[:,10].to_numpy()\n",
    "\n",
    "# add x_0 = 1 \n",
    "x_0 = np.ones([1,len(y_train)])\n",
    "x_train = np.insert(x_train, 0, x_0, axis=1)\n",
    "\n",
    "# calculate pseudo inverse and return w_LIN\n",
    "\n",
    "Xpinv = np.linalg.pinv(x_train)\n",
    "wLIN = np.matmul(Xpinv,y_train)\n",
    "\n",
    "# calculate mse \n",
    "\n",
    "Xw = np.matmul(x_train, wLIN)\n",
    "Esqr_wLIN = mse(Xw, y_train)\n",
    "print(\"The averaged squared error over N examples =\", Esqr_wLIN)"
   ]
  },
  {
   "cell_type": "code",
   "execution_count": 4,
   "metadata": {},
   "outputs": [],
   "source": [
    "# Run the SGD linear regression until Esqr(wt) ≤ 1.01Esqr(wlin)\n",
    "\n",
    "#initialization\n",
    "\n",
    "eta = 0.001\n",
    "exp_times = 1000\n",
    "n_iteration = np.empty([exp_times])"
   ]
  },
  {
   "cell_type": "code",
   "execution_count": 8,
   "metadata": {
    "scrolled": true
   },
   "outputs": [
    {
     "name": "stdout",
     "output_type": "stream",
     "text": [
      "Average number of iterations over the 1000 experiments =  1852.502\n"
     ]
    }
   ],
   "source": [
    "for i in range(exp_times):\n",
    "    t = 0\n",
    "    w = np.zeros([len(x_train[0])])\n",
    "    Esqr = mse(np.matmul(x_train, w), y_train)\n",
    "    np.random.seed(i)\n",
    "    while (Esqr > 1.01 * Esqr_wLIN):\n",
    "        n = np.random.randint(len(y_train))\n",
    "        x = x_train[n]\n",
    "        # update w using the negative stochastic gradient , update direction: 2( y − wx )x \n",
    "        w = w + eta * 2 * (y_train[n] - np.dot(w,x)) * x\n",
    "        Esqr = mse(np.matmul(x_train, w), y_train)\n",
    "        t += 1\n",
    "    n_iteration[i] = t\n",
    "print(\"Average number of iterations over the 1000 experiments = \", n_iteration.mean())"
   ]
  },
  {
   "cell_type": "code",
   "execution_count": null,
   "metadata": {},
   "outputs": [],
   "source": []
  }
 ],
 "metadata": {
  "kernelspec": {
   "display_name": "Python 3",
   "language": "python",
   "name": "python3"
  },
  "language_info": {
   "codemirror_mode": {
    "name": "ipython",
    "version": 3
   },
   "file_extension": ".py",
   "mimetype": "text/x-python",
   "name": "python",
   "nbconvert_exporter": "python",
   "pygments_lexer": "ipython3",
   "version": "3.7.6"
  }
 },
 "nbformat": 4,
 "nbformat_minor": 4
}
