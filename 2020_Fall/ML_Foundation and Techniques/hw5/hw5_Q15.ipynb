{
 "cells": [
  {
   "cell_type": "code",
   "execution_count": 299,
   "metadata": {},
   "outputs": [],
   "source": [
    "import pandas as pd\n",
    "import numpy as np\n",
    "import ast\n",
    "import sys\n",
    "\n",
    "path = '/Users/tsengyiwei/Desktop/NTU 2020Fall/Machine Learning Techniques/homeworks/hw5/libsvm-3.24/python'\n",
    "sys.path.append(path)"
   ]
  },
  {
   "cell_type": "code",
   "execution_count": 300,
   "metadata": {},
   "outputs": [],
   "source": [
    "from svmutil import *"
   ]
  },
  {
   "cell_type": "code",
   "execution_count": 301,
   "metadata": {},
   "outputs": [],
   "source": [
    "def mapping(y,class_chosen):\n",
    "    y_map = list(map(lambda x: 1 if x == class_chosen else -1, y))\n",
    "    return y_map"
   ]
  },
  {
   "cell_type": "code",
   "execution_count": 302,
   "metadata": {},
   "outputs": [],
   "source": [
    "y, x = svm_read_problem('satimage_train.scale')\n",
    "y = mapping(y, 3)\n",
    "prob = svm_problem(y, x, isKernel = True)\n",
    "param = svm_parameter('-t 0 -c 10')\n",
    "m = svm_train(prob, param)\n",
    "support_vector_coefficients = m.get_sv_coef() # coef: y * alpha\n",
    "support_vectors = m.get_SV()"
   ]
  },
  {
   "cell_type": "code",
   "execution_count": 303,
   "metadata": {},
   "outputs": [],
   "source": [
    "# get support vectors stored in v\n",
    "n = len(support_vectors)\n",
    "v = np.zeros((n,36))\n",
    "for i in range(n):\n",
    "    for k in range(36):\n",
    "            try:\n",
    "                v[i][k] = support_vectors[i][k+1]\n",
    "            except:\n",
    "                continue"
   ]
  },
  {
   "cell_type": "code",
   "execution_count": 311,
   "metadata": {},
   "outputs": [
    {
     "name": "stdout",
     "output_type": "stream",
     "text": [
      "8.457084298367683\n"
     ]
    }
   ],
   "source": [
    "w = np.zeros(36)\n",
    "for i in range(n):\n",
    "    u = support_vector_coefficients[i][0] * v[i]\n",
    "    w = w + u\n",
    "w_len = np.dot(w,w) ** 0.5\n",
    "print(w_len)"
   ]
  }
 ],
 "metadata": {
  "kernelspec": {
   "display_name": "Python 3",
   "language": "python",
   "name": "python3"
  },
  "language_info": {
   "codemirror_mode": {
    "name": "ipython",
    "version": 3
   },
   "file_extension": ".py",
   "mimetype": "text/x-python",
   "name": "python",
   "nbconvert_exporter": "python",
   "pygments_lexer": "ipython3",
   "version": "3.7.6"
  }
 },
 "nbformat": 4,
 "nbformat_minor": 4
}
