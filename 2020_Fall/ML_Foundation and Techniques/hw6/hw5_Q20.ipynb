{
 "cells": [
  {
   "cell_type": "code",
   "execution_count": 7,
   "metadata": {},
   "outputs": [],
   "source": [
    "import pandas as pd\n",
    "import numpy as np\n",
    "import ast\n",
    "import sys\n",
    "from sklearn.model_selection import train_test_split\n",
    "\n",
    "path = '/Users/tsengyiwei/Desktop/NTU 2020Fall/Machine Learning Techniques/homeworks/hw5/libsvm-3.24/python'\n",
    "sys.path.append(path)\n",
    "\n",
    "from svmutil import *\n",
    "\n",
    "def mapping(y,class_chosen):\n",
    "    y_map = list(map(lambda x: 1 if x == class_chosen else -1, y))\n",
    "    return y_map"
   ]
  },
  {
   "cell_type": "code",
   "execution_count": null,
   "metadata": {},
   "outputs": [],
   "source": [
    "y, X = svm_read_problem('satimage_train.scale')\n",
    "class_select = 6\n",
    "y = mapping(y, class_select)\n",
    "\n",
    "exp_time = 1000 \n",
    "gamma = [0.1, 1, 10, 100, 1000]\n",
    "choice = len(gamma)\n",
    "gamma_chosen = np.zeros(choice)\n",
    "\n",
    "for i in range(exp_time):\n",
    "    X_train, X_test, y_train, y_test = train_test_split(X, y, test_size=200, random_state=i)\n",
    "    prob = svm_problem(y_train, X_train, isKernel = True)\n",
    "    best = 0\n",
    "    best_gamma = 0\n",
    "    \n",
    "    for j in range(choice):\n",
    "        param = svm_parameter('-t 2 -g {} -c 0.1'.format(gamma[j]))\n",
    "        m = svm_train(prob, param)\n",
    "        p_label, p_acc, p_val = svm_predict(y_test, X_test, m)\n",
    "        candidate = p_acc[0]\n",
    "        \n",
    "        if best < candidate:\n",
    "            best = candidate\n",
    "            best_gamma = j\n",
    "            \n",
    "    gamma_chosen[best_gamma] += 1"
   ]
  },
  {
   "cell_type": "code",
   "execution_count": 9,
   "metadata": {},
   "outputs": [
    {
     "name": "stdout",
     "output_type": "stream",
     "text": [
      "[303. 697.   0.   0.   0.]\n"
     ]
    }
   ],
   "source": [
    "print(gamma_chosen)"
   ]
  },
  {
   "cell_type": "code",
   "execution_count": 22,
   "metadata": {},
   "outputs": [
    {
     "name": "stdout",
     "output_type": "stream",
     "text": [
      "The best gamma is 1\n"
     ]
    }
   ],
   "source": [
    "print('The best gamma is', gamma[1])"
   ]
  }
 ],
 "metadata": {
  "kernelspec": {
   "display_name": "Python 3",
   "language": "python",
   "name": "python3"
  },
  "language_info": {
   "codemirror_mode": {
    "name": "ipython",
    "version": 3
   },
   "file_extension": ".py",
   "mimetype": "text/x-python",
   "name": "python",
   "nbconvert_exporter": "python",
   "pygments_lexer": "ipython3",
   "version": "3.7.6"
  }
 },
 "nbformat": 4,
 "nbformat_minor": 4
}
