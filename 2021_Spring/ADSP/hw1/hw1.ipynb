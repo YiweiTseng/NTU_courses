{
 "cells": [
  {
   "cell_type": "code",
   "execution_count": 148,
   "metadata": {},
   "outputs": [],
   "source": [
    "import numpy as np\n",
    "from numpy.linalg import inv\n",
    "\n",
    "import matplotlib.pyplot as plt\n",
    "from matplotlib.pyplot import figure\n",
    "\n",
    "\n",
    "def Weight(F):\n",
    "    \n",
    "    w_low = np.where(F <= transition_low, W_stop, 0)\n",
    "    w_high = np.where(F >= transition_high, W_pass, 0)\n",
    "    W = w_low + w_high\n",
    "    \n",
    "    return W\n",
    "\n",
    "def get_M(F):\n",
    "    \n",
    "    W = Weight(F)\n",
    "    M = np.cos(F.reshape(k+2,1) * np.arange(k+1) * 2 * np.pi)\n",
    "    W_inv = np.reciprocal(W) * np.array([(-1) ** x for x in range(k+2)])\n",
    "    M = np.concatenate((M, W_inv.reshape(k+2,1)), axis = 1)\n",
    "    \n",
    "    return M\n",
    "\n",
    "def get_Hd(F):\n",
    "    \n",
    "    H = np.array(F > mid) * 1\n",
    "    \n",
    "    return H\n",
    "\n",
    "def get_R(F,s):\n",
    "    \n",
    "    n = len(F)\n",
    "    R = np.cos(F.reshape(n, 1) * np.arange(k+1) * 2 * np.pi)\n",
    "    R = np.matmul(R, s)\n",
    "\n",
    "    return R\n",
    "\n",
    "def get_err(F, s):\n",
    "    \n",
    "    Hd = get_Hd(F)\n",
    "    W = Weight(F)\n",
    "    R = get_R(F, s)\n",
    "    err = (R - Hd) * W\n",
    "    \n",
    "    return err\n",
    "\n",
    "def find_peak(err):\n",
    "    \n",
    "    err_shiftRight = np.concatenate(([0], err[:-1]))\n",
    "    err_shiftLeft = np.concatenate((err[1:], [0]))\n",
    "    peak_check = (err - err_shiftLeft) * (err - err_shiftRight)\n",
    "    F_peak = np.array([x for x,y in enumerate(peak_check) if y > 0], dtype = 'uint32')\n",
    "    P = F_peak[1:-1] # avoid boundary first\n",
    "    number_select = len(P)\n",
    "    \n",
    "    Boundary_right = n_sample - 1\n",
    "\n",
    "    if number_select == k:\n",
    "        P = F_peak\n",
    "    elif number_select == k + 1:\n",
    "        if F_peak[0] == 0 and F_peak[-1] == Boundary_right:\n",
    "            x = 0 if abs(err[0]) > abs(err[Boundary_right]) else Boundary_right\n",
    "            P = np.append(P, x)\n",
    "            P = np.sort(P)\n",
    "            \n",
    "        elif F_peak[0] != 0 and F_peak[-1] == Boundary_right:\n",
    "            P = np.concatenate((F_peak[0], P))\n",
    "            \n",
    "        else:\n",
    "            P = np.append(P, F_peak[-1])\n",
    "    else:\n",
    "        P = P[-(k + 2):] # pick the last k+2 elements from passband to stopband\n",
    "    \n",
    "    return F_sample[P]\n",
    "\n",
    "def plot(curve, title=''):\n",
    "    \n",
    "    figure(figsize=(6, 4))\n",
    "    plt.title(title)\n",
    "    \n",
    "    if title == 'Frequency Response':\n",
    "\n",
    "        x = F_sample\n",
    "        Hd_F = get_Hd(F_sample)\n",
    "        plt.plot(x, curve, color='red', label='Frequency Response')\n",
    "        plt.plot(x, Hd_F, color='blue', label='Hd')\n",
    "        plt.xlim(0, 0.5)\n",
    "        plt.ylim(-0.2, 1.2)\n",
    "        plt.xlabel('Normalized Frequency')\n",
    "        plt.grid(axis='y')\n",
    "        plt.legend()\n",
    "        plt.savefig(\"Frequency_Response.png\")\n",
    "        plt.show()\n",
    "        \n",
    "        \n",
    "    elif title == 'Impulse Response':\n",
    "        x = list(range(N))\n",
    "        plt.stem(x, curve, linefmt=None, markerfmt=None, basefmt=None, use_line_collection=True, label='h[n]')\n",
    "        plt.ylim(-0.4, 0.7)\n",
    "        plt.xlabel('N')\n",
    "        plt.grid(axis='y')\n",
    "        plt.xticks(x)\n",
    "        plt.legend()\n",
    "        plt.savefig(\"Impulse_Response.png\")\n",
    "        plt.show()"
   ]
  },
  {
   "cell_type": "markdown",
   "metadata": {},
   "source": [
    "### Initialization"
   ]
  },
  {
   "cell_type": "code",
   "execution_count": 74,
   "metadata": {},
   "outputs": [
    {
     "name": "stdout",
     "output_type": "stream",
     "text": [
      "0.175 0.225 0.2\n"
     ]
    }
   ],
   "source": [
    "N = 19 #filter lenth\n",
    "k = int((N - 1) / 2) # mid point index = 9\n",
    "n_sample = 5001\n",
    "F_sample = np.linspace(0, 0.5, n_sample)\n",
    "fs = 4000 #sampling frequency\n",
    "\n",
    "# Transition band\n",
    "\n",
    "transition_low = 700 \n",
    "transition_high = 900\n",
    "mid = (transition_low + transition_high) / 2\n",
    "\n",
    "# Normalization\n",
    "\n",
    "transition_low = transition_low / fs # 0.175\n",
    "transition_high = transition_high / fs # 0.225\n",
    "mid = mid / fs # 0.2\n",
    "\n",
    "# Weighting function\n",
    "W_pass = 1\n",
    "W_stop = 0.5\n",
    "\n",
    "delta = 0.0001\n",
    "print(transition_low, transition_high, mid)"
   ]
  },
  {
   "cell_type": "markdown",
   "metadata": {},
   "source": [
    "### Find k+2 Extreme Points"
   ]
  },
  {
   "cell_type": "code",
   "execution_count": 75,
   "metadata": {},
   "outputs": [
    {
     "name": "stdout",
     "output_type": "stream",
     "text": [
      "Iteration 1 , Max Error = 0.1595\n",
      "Iteration 2 , Max Error = 0.1048\n",
      "Iteration 3 , Max Error = 0.1668\n",
      "Iteration 4 , Max Error = 0.1120\n",
      "Iteration 5 , Max Error = 0.0505\n",
      "Iteration 6 , Max Error = 0.0500\n",
      "Iteration 7 , Max Error = 0.0500\n"
     ]
    }
   ],
   "source": [
    "# Step 1, Choose arbitrary k+2 extreme frequencies in the range of (0, 0.5), transtion band excluded\n",
    "\n",
    "n_extreme = int(k+2)\n",
    "n_low = int(n_extreme / 2)\n",
    "n_high = int(n_extreme / 2) if n_extreme%2==0 else int(n_extreme / 2) + 1 \n",
    "\n",
    "Fm_low = np.linspace(0, transition_low, n_low)\n",
    "Fm_high = np.linspace(transition_high, 0.5, n_high)\n",
    "Fm = np.concatenate((Fm_low, Fm_high))\n",
    "\n",
    "E1 = float(\"inf\")\n",
    "iteration = 0\n",
    "while(True):\n",
    "    iteration += 1\n",
    "    \n",
    "    # Step 2: Compute s[n]\n",
    "    Hd = get_Hd(Fm)\n",
    "    M = get_M(Fm)\n",
    "    s = np.matmul(inv(M), Hd)[:-1]\n",
    "    R = get_R(Fm,s)\n",
    "    \n",
    "    # Step 3: Compute err(F) for 0 <= F <= 0.5, exclude the transition band.\n",
    "    \n",
    "    err_F = get_err(F_sample, s)\n",
    "    \n",
    "    # Step 4: Find k+2 local maximal (or minimal) points of err(F)\n",
    "    \n",
    "    ExtremePoints = find_peak(err_F)\n",
    "    \n",
    "    # Step 5:\n",
    "    \n",
    "    E0 = np.amax(abs(err_F))\n",
    "    print(\"Iteration %d , Max Error = %.4f\" %(iteration, E0))\n",
    "    \n",
    "    if E1 - E0 <= delta and E1 - E0 >= 0:\n",
    "        break\n",
    "    else:\n",
    "        E1 = E0\n",
    "        Fm = ExtremePoints"
   ]
  },
  {
   "cell_type": "markdown",
   "metadata": {},
   "source": [
    "### Print The Result"
   ]
  },
  {
   "cell_type": "code",
   "execution_count": 149,
   "metadata": {},
   "outputs": [
    {
     "data": {
      "image/png": "[encoded data removed]",
      "text/plain": [
       "<Figure size 432x288 with 1 Axes>"
      ]
     },
     "metadata": {
      "needs_background": "light"
     },
     "output_type": "display_data"
    },
    {
     "data": {
      "image/png": "[encoded data removed]",
      "text/plain": [
       "<Figure size 432x288 with 1 Axes>"
      ]
     },
     "metadata": {
      "needs_background": "light"
     },
     "output_type": "display_data"
    },
    {
     "name": "stdout",
     "output_type": "stream",
     "text": [
      "[ 0.03675292  0.00476091 -0.03761305 -0.05483019 -0.00661827  0.06400339\n",
      "  0.05059447 -0.10074927 -0.30558892  0.59866141 -0.30558892 -0.10074927\n",
      "  0.05059447  0.06400339 -0.00661827 -0.05483019 -0.03761305  0.00476091\n",
      "  0.03675292]\n"
     ]
    }
   ],
   "source": [
    "# Step 6: Calculate h[n], print Frequency Response and Impulse Response\n",
    "\n",
    "R_F  = get_R(F_sample, s)\n",
    "plot(R_F, title='Frequency Response')\n",
    "\n",
    "hn = np.zeros(N)\n",
    "hn[k] = s[0]\n",
    "\n",
    "for i in range(1,k+1):\n",
    "    hn[k+i] = s[i] / 2\n",
    "    hn[k-i] = s[i] / 2\n",
    "    \n",
    "plot(hn, title='Impulse Response')\n",
    "print(hn)"
   ]
  }
 ],
 "metadata": {
  "kernelspec": {
   "display_name": "Python 3",
   "language": "python",
   "name": "python3"
  },
  "language_info": {
   "codemirror_mode": {
    "name": "ipython",
    "version": 3
   },
   "file_extension": ".py",
   "mimetype": "text/x-python",
   "name": "python",
   "nbconvert_exporter": "python",
   "pygments_lexer": "ipython3",
   "version": "3.7.6"
  }
 },
 "nbformat": 4,
 "nbformat_minor": 4
}
