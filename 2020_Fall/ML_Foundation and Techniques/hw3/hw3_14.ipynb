{
 "cells": [
  {
   "cell_type": "code",
   "execution_count": 1,
   "metadata": {},
   "outputs": [
    {
     "name": "stdout",
     "output_type": "stream",
     "text": [
      "The averaged squared error over N examples = 0.6053223804672918\n"
     ]
    }
   ],
   "source": [
    "import pandas as pd\n",
    "import numpy as np\n",
    "\n",
    "def mse(A,B):\n",
    "    mse = ((A - B)**2).mean()\n",
    "    return mse\n",
    "\n",
    "#load data\n",
    "\n",
    "data = pd.read_csv(\"https://www.csie.ntu.edu.tw/~htlin/course/ml20fall/hw3/hw3_train.dat\", header = None, sep=\"\\t\")\n",
    "x_train = data.iloc[:,:10].to_numpy()\n",
    "y_train = data.iloc[:,10].to_numpy()\n",
    "\n",
    "# add x_0 = 1 \n",
    "x_0 = np.ones([1,len(y_train)])\n",
    "x_train = np.insert(x_train, 0, x_0, axis=1)\n",
    "\n",
    "# calculate pseudo inverse and return w_LIN\n",
    "\n",
    "Xpinv = np.linalg.pinv(x_train)\n",
    "wLIN = np.matmul(Xpinv,y_train)\n",
    "\n",
    "# calculate mse \n",
    "\n",
    "Xw = np.matmul(x_train, wLIN)\n",
    "Esqr_wLIN = mse(Xw, y_train)\n",
    "print(\"The averaged squared error over N examples =\", Esqr_wLIN)"
   ]
  }
 ],
 "metadata": {
  "kernelspec": {
   "display_name": "Python 3",
   "language": "python",
   "name": "python3"
  },
  "language_info": {
   "codemirror_mode": {
    "name": "ipython",
    "version": 3
   },
   "file_extension": ".py",
   "mimetype": "text/x-python",
   "name": "python",
   "nbconvert_exporter": "python",
   "pygments_lexer": "ipython3",
   "version": "3.7.6"
  }
 },
 "nbformat": 4,
 "nbformat_minor": 4
}
